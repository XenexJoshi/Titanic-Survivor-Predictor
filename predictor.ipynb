{
 "cells": [
  {
   "cell_type": "code",
   "execution_count": 3,
   "metadata": {},
   "outputs": [],
   "source": [
    "import numpy as np\n",
    "import pandas as pd"
   ]
  },
  {
   "cell_type": "code",
   "execution_count": 32,
   "metadata": {},
   "outputs": [
    {
     "data": {
      "text/html": [
       "<div>\n",
       "<style scoped>\n",
       "    .dataframe tbody tr th:only-of-type {\n",
       "        vertical-align: middle;\n",
       "    }\n",
       "\n",
       "    .dataframe tbody tr th {\n",
       "        vertical-align: top;\n",
       "    }\n",
       "\n",
       "    .dataframe thead th {\n",
       "        text-align: right;\n",
       "    }\n",
       "</style>\n",
       "<table border=\"1\" class=\"dataframe\">\n",
       "  <thead>\n",
       "    <tr style=\"text-align: right;\">\n",
       "      <th></th>\n",
       "      <th>Surname</th>\n",
       "      <th>First Names</th>\n",
       "      <th>Age</th>\n",
       "      <th>Boarded</th>\n",
       "      <th>Class</th>\n",
       "      <th>Sex</th>\n",
       "      <th>Status</th>\n",
       "    </tr>\n",
       "  </thead>\n",
       "  <tbody>\n",
       "    <tr>\n",
       "      <th>0</th>\n",
       "      <td>Ab ī-Al-Munà</td>\n",
       "      <td>Mr Nās īf Qāsim</td>\n",
       "      <td>26</td>\n",
       "      <td>Cherbourg</td>\n",
       "      <td>3rd</td>\n",
       "      <td>Male</td>\n",
       "      <td>Alive</td>\n",
       "    </tr>\n",
       "    <tr>\n",
       "      <th>1</th>\n",
       "      <td>Abbing</td>\n",
       "      <td>Mr Anthony</td>\n",
       "      <td>42</td>\n",
       "      <td>Southampton</td>\n",
       "      <td>3rd</td>\n",
       "      <td>Male</td>\n",
       "      <td>Dead</td>\n",
       "    </tr>\n",
       "    <tr>\n",
       "      <th>2</th>\n",
       "      <td>Abbott</td>\n",
       "      <td>Mr Eugene Joseph</td>\n",
       "      <td>14</td>\n",
       "      <td>Southampton</td>\n",
       "      <td>3rd</td>\n",
       "      <td>Male</td>\n",
       "      <td>Dead</td>\n",
       "    </tr>\n",
       "    <tr>\n",
       "      <th>3</th>\n",
       "      <td>Abbott</td>\n",
       "      <td>Mrs Rhoda Mary “Rosa”</td>\n",
       "      <td>39</td>\n",
       "      <td>Southampton</td>\n",
       "      <td>3rd</td>\n",
       "      <td>Female</td>\n",
       "      <td>Alive</td>\n",
       "    </tr>\n",
       "    <tr>\n",
       "      <th>4</th>\n",
       "      <td>Abbott</td>\n",
       "      <td>Mr Rossmore Edward</td>\n",
       "      <td>16</td>\n",
       "      <td>Southampton</td>\n",
       "      <td>3rd</td>\n",
       "      <td>Male</td>\n",
       "      <td>Dead</td>\n",
       "    </tr>\n",
       "  </tbody>\n",
       "</table>\n",
       "</div>"
      ],
      "text/plain": [
       "        Surname            First Names Age      Boarded Class     Sex Status\n",
       "0  Ab ī-Al-Munà        Mr Nās īf Qāsim  26    Cherbourg   3rd    Male  Alive\n",
       "1        Abbing             Mr Anthony  42  Southampton   3rd    Male   Dead\n",
       "2        Abbott       Mr Eugene Joseph  14  Southampton   3rd    Male   Dead\n",
       "3        Abbott  Mrs Rhoda Mary “Rosa”  39  Southampton   3rd  Female  Alive\n",
       "4        Abbott     Mr Rossmore Edward  16  Southampton   3rd    Male   Dead"
      ]
     },
     "execution_count": 32,
     "metadata": {},
     "output_type": "execute_result"
    }
   ],
   "source": [
    "df = pd.read_csv(\"Titanic_passengers.csv\")\n",
    "df.head()"
   ]
  },
  {
   "cell_type": "code",
   "execution_count": 33,
   "metadata": {},
   "outputs": [],
   "source": [
    "pass_data = df[['Age', 'Class', 'Sex']]\n",
    "pass_label = df['Status'].astype(str)"
   ]
  },
  {
   "cell_type": "code",
   "execution_count": 34,
   "metadata": {},
   "outputs": [
    {
     "name": "stderr",
     "output_type": "stream",
     "text": [
      "/var/folders/9x/w6hlwnl17tn5m06v9vh_m8jh0000gn/T/ipykernel_76834/469835442.py:6: SettingWithCopyWarning: \n",
      "A value is trying to be set on a copy of a slice from a DataFrame.\n",
      "Try using .loc[row_indexer,col_indexer] = value instead\n",
      "\n",
      "See the caveats in the documentation: https://pandas.pydata.org/pandas-docs/stable/user_guide/indexing.html#returning-a-view-versus-a-copy\n",
      "  pass_data['Age'] = pd.to_numeric(pass_data['Age'], errors='coerce')\n",
      "/var/folders/9x/w6hlwnl17tn5m06v9vh_m8jh0000gn/T/ipykernel_76834/469835442.py:7: FutureWarning: A value is trying to be set on a copy of a DataFrame or Series through chained assignment using an inplace method.\n",
      "The behavior will change in pandas 3.0. This inplace method will never work because the intermediate object on which we are setting values always behaves as a copy.\n",
      "\n",
      "For example, when doing 'df[col].method(value, inplace=True)', try using 'df.method({col: value}, inplace=True)' or df[col] = df[col].method(value) instead, to perform the operation inplace on the original object.\n",
      "\n",
      "\n",
      "  pass_data['Age'].fillna(pass_data['Age'].mean(), inplace=True)\n",
      "/var/folders/9x/w6hlwnl17tn5m06v9vh_m8jh0000gn/T/ipykernel_76834/469835442.py:7: SettingWithCopyWarning: \n",
      "A value is trying to be set on a copy of a slice from a DataFrame\n",
      "\n",
      "See the caveats in the documentation: https://pandas.pydata.org/pandas-docs/stable/user_guide/indexing.html#returning-a-view-versus-a-copy\n",
      "  pass_data['Age'].fillna(pass_data['Age'].mean(), inplace=True)\n",
      "/var/folders/9x/w6hlwnl17tn5m06v9vh_m8jh0000gn/T/ipykernel_76834/469835442.py:8: SettingWithCopyWarning: \n",
      "A value is trying to be set on a copy of a slice from a DataFrame.\n",
      "Try using .loc[row_indexer,col_indexer] = value instead\n",
      "\n",
      "See the caveats in the documentation: https://pandas.pydata.org/pandas-docs/stable/user_guide/indexing.html#returning-a-view-versus-a-copy\n",
      "  pass_data['Age'] = pass_data['Age'].astype(int)\n",
      "/var/folders/9x/w6hlwnl17tn5m06v9vh_m8jh0000gn/T/ipykernel_76834/469835442.py:9: SettingWithCopyWarning: \n",
      "A value is trying to be set on a copy of a slice from a DataFrame.\n",
      "Try using .loc[row_indexer,col_indexer] = value instead\n",
      "\n",
      "See the caveats in the documentation: https://pandas.pydata.org/pandas-docs/stable/user_guide/indexing.html#returning-a-view-versus-a-copy\n",
      "  pass_data['Age'] = pass_data['Age'].apply(categorize_age)\n",
      "/var/folders/9x/w6hlwnl17tn5m06v9vh_m8jh0000gn/T/ipykernel_76834/469835442.py:18: SettingWithCopyWarning: \n",
      "A value is trying to be set on a copy of a slice from a DataFrame.\n",
      "Try using .loc[row_indexer,col_indexer] = value instead\n",
      "\n",
      "See the caveats in the documentation: https://pandas.pydata.org/pandas-docs/stable/user_guide/indexing.html#returning-a-view-versus-a-copy\n",
      "  pass_data['Class'] = encoder.fit_transform(pass_data['Class'])\n",
      "/var/folders/9x/w6hlwnl17tn5m06v9vh_m8jh0000gn/T/ipykernel_76834/469835442.py:21: SettingWithCopyWarning: \n",
      "A value is trying to be set on a copy of a slice from a DataFrame.\n",
      "Try using .loc[row_indexer,col_indexer] = value instead\n",
      "\n",
      "See the caveats in the documentation: https://pandas.pydata.org/pandas-docs/stable/user_guide/indexing.html#returning-a-view-versus-a-copy\n",
      "  pass_data['Sex'] = encoder.fit_transform(pass_data['Sex'])\n"
     ]
    }
   ],
   "source": [
    "from sklearn.preprocessing import LabelEncoder\n",
    "\n",
    "def categorize_age(age):\n",
    "  return (age // 10)\n",
    "\n",
    "pass_data['Age'] = pd.to_numeric(pass_data['Age'], errors='coerce')\n",
    "pass_data['Age'].fillna(pass_data['Age'].mean(), inplace=True)\n",
    "pass_data['Age'] = pass_data['Age'].astype(int)\n",
    "pass_data['Age'] = pass_data['Age'].apply(categorize_age)\n",
    "\n",
    "\"\"\"\n",
    "encoder = LabelEncoder()\n",
    "pass_data['Boarded'] = pass_data['Boarded'].str.strip().str.lower()\n",
    "pass_data['Boarded'] = encoder.fit_transform(pass_data['Boarded'])\n",
    "\"\"\"\n",
    "\n",
    "encoder = LabelEncoder()\n",
    "pass_data['Class'] = encoder.fit_transform(pass_data['Class'])\n",
    "\n",
    "encoder = LabelEncoder()\n",
    "pass_data['Sex'] = encoder.fit_transform(pass_data['Sex'])\n"
   ]
  },
  {
   "cell_type": "code",
   "execution_count": 35,
   "metadata": {},
   "outputs": [
    {
     "name": "stdout",
     "output_type": "stream",
     "text": [
      "      Age  Class  Sex\n",
      "701     0      2    0\n",
      "423     4      0    0\n",
      "984     0      1    0\n",
      "1309    2      2    1\n",
      "886     2      2    1\n",
      "...   ...    ...  ...\n",
      "1095    4      0    0\n",
      "1130    2      0    0\n",
      "1294    2      2    1\n",
      "860     2      2    1\n",
      "1126    1      0    0\n",
      "\n",
      "[856 rows x 3 columns]\n",
      "701      Dead\n",
      "423     Alive\n",
      "984     Alive\n",
      "1309     Dead\n",
      "886      Dead\n",
      "        ...  \n",
      "1095    Alive\n",
      "1130    Alive\n",
      "1294     Dead\n",
      "860      Dead\n",
      "1126    Alive\n",
      "Name: Status, Length: 856, dtype: object\n"
     ]
    }
   ],
   "source": [
    "from sklearn.model_selection import train_test_split\n",
    "\n",
    "X_train, X_test, y_train, y_test = train_test_split(pass_data, pass_label, test_size = 0.35, random_state = 42)\n",
    "print(X_train)\n",
    "print(y_train)"
   ]
  },
  {
   "cell_type": "code",
   "execution_count": 40,
   "metadata": {},
   "outputs": [
    {
     "data": {
      "text/plain": [
       "[Text(0.49583333333333335, 0.9166666666666666, 'x[2] <= 0.5\\ngini = 0.463\\nsamples = 856\\nvalue = [311, 545]'),\n",
       " Text(0.3, 0.75, 'x[1] <= 1.5\\ngini = 0.443\\nsamples = 317\\nvalue = [212.0, 105.0]'),\n",
       " Text(0.3979166666666667, 0.8333333333333333, 'True  '),\n",
       " Text(0.16666666666666666, 0.5833333333333334, 'x[1] <= 0.5\\ngini = 0.255\\nsamples = 173\\nvalue = [147, 26]'),\n",
       " Text(0.1, 0.4166666666666667, 'x[0] <= 4.5\\ngini = 0.115\\nsamples = 98\\nvalue = [92, 6]'),\n",
       " Text(0.06666666666666667, 0.25, 'x[0] <= 3.5\\ngini = 0.049\\nsamples = 80\\nvalue = [78, 2]'),\n",
       " Text(0.03333333333333333, 0.08333333333333333, 'gini = 0.034\\nsamples = 57\\nvalue = [56, 1]'),\n",
       " Text(0.1, 0.08333333333333333, 'gini = 0.083\\nsamples = 23\\nvalue = [22, 1]'),\n",
       " Text(0.13333333333333333, 0.25, 'gini = 0.346\\nsamples = 18\\nvalue = [14, 4]'),\n",
       " Text(0.23333333333333334, 0.4166666666666667, 'x[0] <= 4.5\\ngini = 0.391\\nsamples = 75\\nvalue = [55.0, 20.0]'),\n",
       " Text(0.2, 0.25, 'x[0] <= 0.5\\ngini = 0.334\\nsamples = 66\\nvalue = [52, 14]'),\n",
       " Text(0.16666666666666666, 0.08333333333333333, 'gini = 0.0\\nsamples = 7\\nvalue = [7, 0]'),\n",
       " Text(0.23333333333333334, 0.08333333333333333, 'gini = 0.362\\nsamples = 59\\nvalue = [45, 14]'),\n",
       " Text(0.26666666666666666, 0.25, 'gini = 0.444\\nsamples = 9\\nvalue = [3, 6]'),\n",
       " Text(0.43333333333333335, 0.5833333333333334, 'x[0] <= 2.5\\ngini = 0.495\\nsamples = 144\\nvalue = [65, 79]'),\n",
       " Text(0.36666666666666664, 0.4166666666666667, 'x[0] <= 1.5\\ngini = 0.5\\nsamples = 111\\nvalue = [55.0, 56.0]'),\n",
       " Text(0.3333333333333333, 0.25, 'x[0] <= 0.5\\ngini = 0.5\\nsamples = 53\\nvalue = [27, 26]'),\n",
       " Text(0.3, 0.08333333333333333, 'gini = 0.499\\nsamples = 23\\nvalue = [11, 12]'),\n",
       " Text(0.36666666666666664, 0.08333333333333333, 'gini = 0.498\\nsamples = 30\\nvalue = [16, 14]'),\n",
       " Text(0.4, 0.25, 'gini = 0.499\\nsamples = 58\\nvalue = [28.0, 30.0]'),\n",
       " Text(0.5, 0.4166666666666667, 'x[0] <= 3.5\\ngini = 0.422\\nsamples = 33\\nvalue = [10, 23]'),\n",
       " Text(0.4666666666666667, 0.25, 'gini = 0.434\\nsamples = 22\\nvalue = [7.0, 15.0]'),\n",
       " Text(0.5333333333333333, 0.25, 'gini = 0.397\\nsamples = 11\\nvalue = [3, 8]'),\n",
       " Text(0.6916666666666667, 0.75, 'x[0] <= 0.5\\ngini = 0.3\\nsamples = 539\\nvalue = [99, 440]'),\n",
       " Text(0.59375, 0.8333333333333333, '  False'),\n",
       " Text(0.6, 0.5833333333333334, 'x[1] <= 1.5\\ngini = 0.49\\nsamples = 21\\nvalue = [12, 9]'),\n",
       " Text(0.5666666666666667, 0.4166666666666667, 'gini = 0.0\\nsamples = 5\\nvalue = [5, 0]'),\n",
       " Text(0.6333333333333333, 0.4166666666666667, 'gini = 0.492\\nsamples = 16\\nvalue = [7, 9]'),\n",
       " Text(0.7833333333333333, 0.5833333333333334, 'x[1] <= 0.5\\ngini = 0.279\\nsamples = 518\\nvalue = [87, 431]'),\n",
       " Text(0.7, 0.4166666666666667, 'x[0] <= 4.5\\ngini = 0.401\\nsamples = 101\\nvalue = [28.0, 73.0]'),\n",
       " Text(0.6666666666666666, 0.25, 'x[0] <= 2.5\\ngini = 0.46\\nsamples = 78\\nvalue = [28.0, 50.0]'),\n",
       " Text(0.6333333333333333, 0.08333333333333333, 'gini = 0.49\\nsamples = 28\\nvalue = [12, 16]'),\n",
       " Text(0.7, 0.08333333333333333, 'gini = 0.435\\nsamples = 50\\nvalue = [16, 34]'),\n",
       " Text(0.7333333333333333, 0.25, 'gini = 0.0\\nsamples = 23\\nvalue = [0, 23]'),\n",
       " Text(0.8666666666666667, 0.4166666666666667, 'x[0] <= 1.5\\ngini = 0.243\\nsamples = 417\\nvalue = [59, 358]'),\n",
       " Text(0.8, 0.25, 'x[1] <= 1.5\\ngini = 0.083\\nsamples = 69\\nvalue = [3, 66]'),\n",
       " Text(0.7666666666666667, 0.08333333333333333, 'gini = 0.142\\nsamples = 13\\nvalue = [1, 12]'),\n",
       " Text(0.8333333333333334, 0.08333333333333333, 'gini = 0.069\\nsamples = 56\\nvalue = [2, 54]'),\n",
       " Text(0.9333333333333333, 0.25, 'x[0] <= 3.5\\ngini = 0.27\\nsamples = 348\\nvalue = [56, 292]'),\n",
       " Text(0.9, 0.08333333333333333, 'gini = 0.301\\nsamples = 293\\nvalue = [54, 239]'),\n",
       " Text(0.9666666666666667, 0.08333333333333333, 'gini = 0.07\\nsamples = 55\\nvalue = [2, 53]')]"
      ]
     },
     "execution_count": 40,
     "metadata": {},
     "output_type": "execute_result"
    },
    {
     "data": {
      "image/png": "[encoded data removed]",
      "text/plain": [
       "<Figure size 640x480 with 1 Axes>"
      ]
     },
     "metadata": {},
     "output_type": "display_data"
    }
   ],
   "source": [
    "from sklearn import tree\n",
    "\n",
    "det_tree = tree.DecisionTreeClassifier(max_depth = 5, min_samples_split = 8, min_samples_leaf = 5, random_state = 42)\n",
    "det_tree = det_tree.fit(X_train, y_train)\n",
    "tree.plot_tree(det_tree)"
   ]
  },
  {
   "cell_type": "code",
   "execution_count": 42,
   "metadata": {},
   "outputs": [
    {
     "name": "stdout",
     "output_type": "stream",
     "text": [
      "The accuracy of the Decision Tree model is 0.781\n"
     ]
    }
   ],
   "source": [
    "from sklearn.metrics import accuracy_score\n",
    "\n",
    "preds = det_tree.predict(X_test)\n",
    "accuracy = accuracy_score(preds, y_test)\n",
    "print(\"The accuracy of the Decision Tree model is \" + str(round(accuracy, 3)))"
   ]
  }
 ],
 "metadata": {
  "kernelspec": {
   "display_name": ".venv",
   "language": "python",
   "name": "python3"
  },
  "language_info": {
   "codemirror_mode": {
    "name": "ipython",
    "version": 3
   },
   "file_extension": ".py",
   "mimetype": "text/x-python",
   "name": "python",
   "nbconvert_exporter": "python",
   "pygments_lexer": "ipython3",
   "version": "3.9.6"
  }
 },
 "nbformat": 4,
 "nbformat_minor": 2
}
